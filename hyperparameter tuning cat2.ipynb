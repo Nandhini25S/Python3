{
 "cells": [
  {
   "cell_type": "code",
   "execution_count": 1,
   "metadata": {},
   "outputs": [
    {
     "name": "stdout",
     "output_type": "stream",
     "text": [
      "[[33  1  2 ...  2  3  4]\n",
      " [17  1  3 ...  1  7  2]\n",
      " [35  1  4 ...  6  7  2]\n",
      " ...\n",
      " [25  2  4 ...  6  7  2]\n",
      " [18  2  6 ...  4  2  3]\n",
      " [47  1  6 ...  6  7  2]]\n",
      "[0 0 1 0 1 0 0 0 0 1 0 0 1 1 0 0 0 1 1 0 0 1 0 1 1 1 0 0 0 1 1 1 0 0 1 1 0\n",
      " 0 1 1 0 1 1 0 1 1 1 1 1 1 1 1 1 1 0 0 1 0 0 0 0 0 0 0 1 1 0 1 1 0 1 0 1 1\n",
      " 1 0 1 1 0 1 0 1 1 1 1 0 0 1 0 0 1 0 1 0 1 0 1 0 0 1 0 1 0 0 1 0 0 1 1 0 0\n",
      " 1 1 0 0 1 0 0 0 1 1 1 0 0 1 1 1 1 1 1 0 1 0 0 0 1 1 0 1 1 0 1 1 0 1 0 1 1\n",
      " 0 1 1 0 1 0 0 1 0 0 1 0 0 0 1 0 1 0 0 0 0 1 1 0 0 0 0 0 0 0 1 0 0 0 1 1 1\n",
      " 0 0 1 1 1 0 1 1 1 1 1 1 0 1 0 1 0 0 1 0 0 1 0 0 0 1 0 1 0 1 0 1 0 0 1 0 0\n",
      " 1 0 1 1 0 1 1 0 0 0 0 0 1 0 1 0 1 1 0 1 0 1 0 1 0 0 1 0 1 0 1 1 1 0 1 0 0\n",
      " 1 0 0 0 1 1 0 1 1 1 1 1 1 1 0 0 0 1 1 0 0 0 0 0 0 1 0 1 1 1 1 1 0 0 1 1 0\n",
      " 1 1 0 1 1 1 0 1 0 1 0 0 1 0 1 0 0 1 1 0 1 0 1 1 0 0 1 0 0 1 0 1 1 1 1 0 0\n",
      " 1 1 1 1 1 0 0 0 1 0 0 0 1 1 0 0 1 1 1 0 1 1 1 0 1 0 1 0 0 0 0 1 1 1 0 0 0\n",
      " 1 1 1 0 1 1 0 0 1 1 1 1 1 0 0 0 0 0 0 0 1 1 0 0 0 1 0 0 1 1 1 1 0 1 1 0 0\n",
      " 1 0 1 0 0 1 0 0 0 1 1 0 1 1 0 0 1 1 0 0 0 0 1 1 1 1 0 0 0 0 0 0 0 1 1 0 1\n",
      " 1 0 1 0 0 0 1 1 1 1 0 0 0 0 1 0 1 0 1 0 0 0 1 1 1 1 0 1 1 1 1 0 1 0 0 0 0\n",
      " 0 0 1 0 1 1 1 0 0 0 0 0 0 0 0 0 1 1 1 1 1 1 1 1 0 0 1 1 0 0 1 0 1 0 1 0 0\n",
      " 1 0 0 1 0 0 0 1 1 0 1 0 0 0 1 1 1 1 0 0 1 1 0 0 0 0 1 0 0 1 1 1 1 0 1 1 0\n",
      " 0 0 0 1 1 1 0 0 1 1 1 0 1 0 1 0 0 0 0 0 1 0 1 1 1 0 1 0 1 1 1 0 0 1 1 1 0\n",
      " 1 1 1 0 0 0 0 1 1 0 0 1 0 0 1 0 1 1 0 0 0 1 0 0 1 1 0 0 1 1 0 0 1 0 0 1 1\n",
      " 1 1 0 0 0 1 0 1 1 0 0 1 0 0 1 0 0 1 1 0 1 1 0 1 0 1 1 0 1 1 0 0 1 0 1 0 1\n",
      " 1 0 1 0 1 0 1 0 1 1 0 0 0 1 0 1 0 0 1 0 1 0 1 0 0 1 1 0 1 1 1 0 1 1 1 1 1\n",
      " 0 1 1 1 1 1 0 0 1 0 1 1 1 0 1 1 1 0 0 1 1 1 1 1 1 1 1 1 1 0 0 1 1 1 1 1 1\n",
      " 1 0 0 1 1 1 0 1 0 1 0 0 1 1 0 1 0 1 1 0 1 0 0 0 0 0 0 1 1 1 0 1 0 1 0 0 0\n",
      " 0 1 1 0 1 1 1 1 0 0 1 1 0 0 1 1 0 1 0 1 0 0 1 1 1 1 1 0 0 0 1 0 0 0 1 0 1\n",
      " 1 1 1 1 1 1 1 0 1 0 0 1 1 1 1 1 1 1 0 0 0 0 1 0 1 0 0 0 0 1 1 1 0 1 0 0 0\n",
      " 0 1 1 0 0 0 1 0 1 1 0 0 0 0 0 0 0 1 1 0 1 0 0 0 0 0 1 0 1 0 0 1 1 0 1 0 0\n",
      " 1 0 1 1 0 0 0 1 1 1 1 0 1 0 1 0 0 0 0 1 1 1 0 0 1 0 1 0 1 0 0 1 1 0 1 0 0\n",
      " 0 0 1 1 0 1 0 1 0 1 0 1 0 0 0 0 0 0 0 0 0 0 1 1 0 0 1 0 0 1 1 0 1 1 0 1 1\n",
      " 0 0 0 0 1 0 1 0 1 0 1 0 1 1 0 0 1 1 1 0 1 0 1 1 1 1 0 1 0 0 0 0 1 0 1 1 0\n",
      " 1]\n"
     ]
    },
    {
     "name": "stderr",
     "output_type": "stream",
     "text": [
      "C:\\Users\\Divya Haridas\\anaconda3\\lib\\site-packages\\sklearn\\utils\\deprecation.py:143: FutureWarning: The sklearn.metrics.scorer module is  deprecated in version 0.22 and will be removed in version 0.24. The corresponding classes / functions should instead be imported from sklearn.metrics. Anything that cannot be imported from sklearn.metrics is now part of the private API.\n",
      "  warnings.warn(message, FutureWarning)\n"
     ]
    },
    {
     "name": "stdout",
     "output_type": "stream",
     "text": [
      "Grid Search Results\n",
      " \n",
      "\n",
      "Best Params :  {'metric': 'minkowski', 'n_neighbors': 5}\n",
      "Best Precision :  0.5496271112085984\n",
      "Best Model: \n",
      " KNeighborsClassifier()\n",
      "Random Search Results\n",
      "Best Params :  {'n_neighbors': 2, 'metric': 'manhattan'}\n",
      "Best Precision :  0.5448101265822785\n",
      "Best Model: \n",
      " KNeighborsClassifier(metric='manhattan', n_neighbors=2)\n",
      "Fine Tuned Model results\n",
      "\n",
      "\n",
      "Confusion Matrix \n",
      " [[110  40]\n",
      " [100  50]]\n",
      "\n",
      "Classification Report : \n",
      "               precision    recall  f1-score   support\n",
      "\n",
      "           0       0.52      0.73      0.61       150\n",
      "           1       0.56      0.33      0.42       150\n",
      "\n",
      "    accuracy                           0.53       300\n",
      "   macro avg       0.54      0.53      0.51       300\n",
      "weighted avg       0.54      0.53      0.51       300\n",
      "\n",
      "Accuracy :  0.5333333333333333\n",
      "AUC SCORE :  0.5202222222222223\n"
     ]
    },
    {
     "data": {
      "image/png": "[encoded data removed]",
      "text/plain": [
       "<Figure size 432x288 with 1 Axes>"
      ]
     },
     "metadata": {
      "needs_background": "light"
     },
     "output_type": "display_data"
    }
   ],
   "source": [
    "import numpy as np\n",
    "import pandas as pd\n",
    "import matplotlib.pyplot as plt\n",
    "import time\n",
    "from sklearn import preprocessing\n",
    "from sklearn.neighbors import KNeighborsClassifier\n",
    "from sklearn.model_selection import train_test_split\n",
    "from sklearn.metrics import classification_report\n",
    "from sklearn.metrics import confusion_matrix\n",
    "from sklearn.model_selection import GridSearchCV,RandomizedSearchCV\n",
    "from sklearn.metrics import roc_curve\n",
    "from sklearn.metrics import roc_auc_score\n",
    "df = pd.read_csv(r\"C:\\Users\\Divya Haridas\\Desktop\\cancer.csv\")\n",
    "df.head()\n",
    "x = df.iloc[:, :-1].values\n",
    "print(x)\n",
    "y = df.iloc[:, -1].values\n",
    "print(y)\n",
    "x_train,x_test,y_train,y_test = train_test_split(x,y,test_size=0.3,random_state=42, stratify=y)\n",
    "from sklearn.metrics import scorer\n",
    "from time import time\n",
    "knn = KNeighborsClassifier()\n",
    "params = {'n_neighbors':range(2,11),'metric':['minkowski','manhattan','euclidean']}\n",
    "grid_search = GridSearchCV(knn,param_grid = params,scoring='precision',cv=2)\n",
    "grid_search.fit(x_train,y_train)\n",
    "print(\"Grid Search Results\\n \\n\")\n",
    "print(\"Best Params : \",grid_search.best_params_)\n",
    "print(\"Best Precision : \",grid_search.best_score_)\n",
    "print(\"Best Model: \\n\",grid_search.best_estimator_)\n",
    "knn = KNeighborsClassifier()\n",
    "params = {'n_neighbors':np.arange(2,11,step=1),'metric':['minkowski','manhattan','euclidean']}\n",
    "random_search = RandomizedSearchCV(knn,params,scoring='precision' ,cv=2)\n",
    "random_search.fit(x_train,y_train)\n",
    "print(\"Random Search Results\")\n",
    "print(\"Best Params : \",random_search.best_params_)\n",
    "print(\"Best Precision : \",random_search.best_score_)\n",
    "print(\"Best Model: \\n\",random_search.best_estimator_)\n",
    "tuned_model = random_search.best_estimator_\n",
    "y_pred = tuned_model.predict(x_test).flatten()\n",
    "print(\"Fine Tuned Model results\\n\\n\")\n",
    "conf_mat=confusion_matrix(y_test,y_pred)\n",
    "print(\"Confusion Matrix \\n\",conf_mat)\n",
    "print(\"\\nClassification Report : \\n\",classification_report(y_test,y_pred))\n",
    "tuned_accuracy = (conf_mat[0][0]+conf_mat[1][1])/len(y_test)\n",
    "print(\"Accuracy : \" ,tuned_accuracy )\n",
    "probs=tuned_model.predict_proba(x_test)\n",
    "probs=probs[:,1]\n",
    "fpr,tpr,_=roc_curve(y_test,probs)\n",
    "random_probs = [0 for _ in range(len(y_test))]\n",
    "p_fpr,p_tpr,_ = roc_curve(y_test,random_probs)\n",
    "auc_score=roc_auc_score(y_test,probs)\n",
    "print(\"AUC SCORE : \" ,auc_score)\n",
    "plt.plot(p_fpr, p_tpr, linestyle='--')\n",
    "plt.plot(fpr, tpr, marker='.', label='TUNED KNN (area=%0.2f)'% auc_score)\n",
    "plt.xlabel('False Positive Rate')\n",
    "plt.ylabel('True Positive Rate')\n",
    "plt.title(\"ROC-AUC CURVE for TUNED KNN Classifier\")\n",
    "plt.legend()\n",
    "plt.show()\n"
   ]
  },
  {
   "cell_type": "code",
   "execution_count": null,
   "metadata": {},
   "outputs": [],
   "source": []
  }
 ],
 "metadata": {
  "kernelspec": {
   "display_name": "Python 3",
   "language": "python",
   "name": "python3"
  },
  "language_info": {
   "codemirror_mode": {
    "name": "ipython",
    "version": 3
   },
   "file_extension": ".py",
   "mimetype": "text/x-python",
   "name": "python",
   "nbconvert_exporter": "python",
   "pygments_lexer": "ipython3",
   "version": "3.8.3"
  }
 },
 "nbformat": 4,
 "nbformat_minor": 4
}
